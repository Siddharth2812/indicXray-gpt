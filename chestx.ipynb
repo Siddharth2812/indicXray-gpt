{
 "cells": [
  {
   "cell_type": "code",
   "execution_count": null,
   "id": "fefd9494-023d-403e-893e-9f04fbe9dce5",
   "metadata": {},
   "outputs": [
    {
     "name": "stderr",
     "output_type": "stream",
     "text": [
      "/Users/dog/.pyenv/versions/3.11.1/lib/python3.11/site-packages/tqdm/auto.py:21: TqdmWarning: IProgress not found. Please update jupyter and ipywidgets. See https://ipywidgets.readthedocs.io/en/stable/user_install.html\n",
      "  from .autonotebook import tqdm as notebook_tqdm\n",
      "Fetching 7 files:   0%|          | 0/7 [00:00<?, ?it/s]"
     ]
    }
   ],
   "source": [
    "import io\n",
    "import requests\n",
    "import torch\n",
    "from PIL import Image\n",
    "from transformers import AutoModelForCausalLM, AutoProcessor, GenerationConfig\n",
    "\n",
    "# Step 1: Setup constants\n",
    "device = \"cpu\"\n",
    "dtype = torch.float16\n",
    "\n",
    "# Step 2: Load Processor and Model\n",
    "processor = AutoProcessor.from_pretrained(\"StanfordAIMI/CheXagent-8b\", trust_remote_code=True)\n",
    "generation_config = GenerationConfig.from_pretrained(\"StanfordAIMI/CheXagent-8b\")\n",
    "model = AutoModelForCausalLM.from_pretrained(\n",
    "    \"StanfordAIMI/CheXagent-8b\",\n",
    "    torch_dtype=dtype,\n",
    "    trust_remote_code=True\n",
    ").to(device=device, dtype=dtype)  # <-- important!\n",
    "\n",
    "# Step 3: Fetch the image (you're opening local file here, not the URL)\n",
    "images = Image.open('/Users/dog/Downloads/drive-download-20250427T052722Z-001/png/AB_training_13.png')\n",
    "\n",
    "# Step 4: Generate the report\n",
    "prompt = 'Generate the full xray report'\n",
    "inputs = processor(\n",
    "    images=images,\n",
    "    text=f\" USER: <s>{prompt} ASSISTANT: <s>\",\n",
    "    return_tensors=\"pt\"\n",
    ").to(device=device, dtype=dtype)\n",
    "\n",
    "output = model.generate(**inputs, generation_config=generation_config)[0]\n",
    "response = processor.tokenizer.decode(output, skip_special_tokens=True)\n",
    "\n",
    "print(response)\n"
   ]
  },
  {
   "cell_type": "code",
   "execution_count": null,
   "id": "935fa057-d85c-43c0-a1ce-405f13ed306a",
   "metadata": {},
   "outputs": [],
   "source": []
  }
 ],
 "metadata": {
  "kernelspec": {
   "display_name": "Python 3",
   "language": "python",
   "name": "python3"
  },
  "language_info": {
   "codemirror_mode": {
    "name": "ipython",
    "version": 3
   },
   "file_extension": ".py",
   "mimetype": "text/x-python",
   "name": "python",
   "nbconvert_exporter": "python",
   "pygments_lexer": "ipython3",
   "version": "3.11.1"
  }
 },
 "nbformat": 4,
 "nbformat_minor": 5
}
